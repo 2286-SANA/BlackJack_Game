{
  "nbformat": 4,
  "nbformat_minor": 0,
  "metadata": {
    "colab": {
      "name": "Untitled0.ipynb",
      "provenance": [],
      "authorship_tag": "ABX9TyOD0pj9ne76DTZcDxO4iHzv",
      "include_colab_link": true
    },
    "kernelspec": {
      "name": "python3",
      "display_name": "Python 3"
    },
    "language_info": {
      "name": "python"
    }
  },
  "cells": [
    {
      "cell_type": "markdown",
      "metadata": {
        "id": "view-in-github",
        "colab_type": "text"
      },
      "source": [
        "<a href=\"https://colab.research.google.com/github/2286-SANA/Hand-Written-Digit-Recognition-/blob/main/HWDR.ipynb\" target=\"_parent\"><img src=\"https://colab.research.google.com/assets/colab-badge.svg\" alt=\"Open In Colab\"/></a>"
      ]
    },
    {
      "cell_type": "code",
      "execution_count": 5,
      "metadata": {
        "id": "msbjQdMGmRLm"
      },
      "outputs": [],
      "source": [
        "# This is multiclass classification problem\n",
        "from keras.datasets import mnist\n",
        "dataset = mnist.load_data('mnist.db')"
      ]
    },
    {
      "cell_type": "code",
      "source": [
        "# This is multiclass classification problem\n",
        "from keras.datasets import mnist\n",
        "dataset = mnist.load_data('mnist.db')"
      ],
      "metadata": {
        "id": "FTp09Bk-mdx0"
      },
      "execution_count": 6,
      "outputs": []
    },
    {
      "cell_type": "code",
      "source": [
        "train, test = dataset\n",
        "X_train, y_train = train\n",
        "X_test, y_test = test"
      ],
      "metadata": {
        "id": "_hyr45LInPuR"
      },
      "execution_count": 7,
      "outputs": []
    },
    {
      "cell_type": "code",
      "source": [
        "len(X_train)"
      ],
      "metadata": {
        "colab": {
          "base_uri": "https://localhost:8080/"
        },
        "id": "nnD8MeGomtiz",
        "outputId": "42b86d9d-2b9a-4162-e105-b2d40ac6c5c1"
      },
      "execution_count": 8,
      "outputs": [
        {
          "output_type": "execute_result",
          "data": {
            "text/plain": [
              "60000"
            ]
          },
          "metadata": {},
          "execution_count": 8
        }
      ]
    },
    {
      "cell_type": "code",
      "source": [
        "len(X_test)"
      ],
      "metadata": {
        "colab": {
          "base_uri": "https://localhost:8080/"
        },
        "id": "EGKe3zsxm4vu",
        "outputId": "c10be0b0-6b3e-4572-c77d-80cfcf755642"
      },
      "execution_count": 9,
      "outputs": [
        {
          "output_type": "execute_result",
          "data": {
            "text/plain": [
              "10000"
            ]
          },
          "metadata": {},
          "execution_count": 9
        }
      ]
    },
    {
      "cell_type": "code",
      "source": [
        "# 1st image\n",
        "X_train[1]"
      ],
      "metadata": {
        "id": "loOj9YlZnUaU",
        "outputId": "41a5fb24-22e9-4b52-fbfe-fa86ff0eb9fe",
        "colab": {
          "base_uri": "https://localhost:8080/"
        }
      },
      "execution_count": 37,
      "outputs": [
        {
          "output_type": "execute_result",
          "data": {
            "text/plain": [
              "array([[  0,   0,   0,   0,   0,   0,   0,   0,   0,   0,   0,   0,   0,\n",
              "          0,   0,   0,   0,   0,   0,   0,   0,   0,   0,   0,   0,   0,\n",
              "          0,   0],\n",
              "       [  0,   0,   0,   0,   0,   0,   0,   0,   0,   0,   0,   0,   0,\n",
              "          0,   0,   0,   0,   0,   0,   0,   0,   0,   0,   0,   0,   0,\n",
              "          0,   0],\n",
              "       [  0,   0,   0,   0,   0,   0,   0,   0,   0,   0,   0,   0,   0,\n",
              "          0,   0,   0,   0,   0,   0,   0,   0,   0,   0,   0,   0,   0,\n",
              "          0,   0],\n",
              "       [  0,   0,   0,   0,   0,   0,   0,   0,   0,   0,   0,   0,   0,\n",
              "          0,   0,   0,   0,   0,   0,   0,   0,   0,   0,   0,   0,   0,\n",
              "          0,   0],\n",
              "       [  0,   0,   0,   0,   0,   0,   0,   0,   0,   0,   0,   0,   0,\n",
              "          0,   0,  51, 159, 253, 159,  50,   0,   0,   0,   0,   0,   0,\n",
              "          0,   0],\n",
              "       [  0,   0,   0,   0,   0,   0,   0,   0,   0,   0,   0,   0,   0,\n",
              "          0,  48, 238, 252, 252, 252, 237,   0,   0,   0,   0,   0,   0,\n",
              "          0,   0],\n",
              "       [  0,   0,   0,   0,   0,   0,   0,   0,   0,   0,   0,   0,   0,\n",
              "         54, 227, 253, 252, 239, 233, 252,  57,   6,   0,   0,   0,   0,\n",
              "          0,   0],\n",
              "       [  0,   0,   0,   0,   0,   0,   0,   0,   0,   0,   0,  10,  60,\n",
              "        224, 252, 253, 252, 202,  84, 252, 253, 122,   0,   0,   0,   0,\n",
              "          0,   0],\n",
              "       [  0,   0,   0,   0,   0,   0,   0,   0,   0,   0,   0, 163, 252,\n",
              "        252, 252, 253, 252, 252,  96, 189, 253, 167,   0,   0,   0,   0,\n",
              "          0,   0],\n",
              "       [  0,   0,   0,   0,   0,   0,   0,   0,   0,   0,  51, 238, 253,\n",
              "        253, 190, 114, 253, 228,  47,  79, 255, 168,   0,   0,   0,   0,\n",
              "          0,   0],\n",
              "       [  0,   0,   0,   0,   0,   0,   0,   0,   0,  48, 238, 252, 252,\n",
              "        179,  12,  75, 121,  21,   0,   0, 253, 243,  50,   0,   0,   0,\n",
              "          0,   0],\n",
              "       [  0,   0,   0,   0,   0,   0,   0,   0,  38, 165, 253, 233, 208,\n",
              "         84,   0,   0,   0,   0,   0,   0, 253, 252, 165,   0,   0,   0,\n",
              "          0,   0],\n",
              "       [  0,   0,   0,   0,   0,   0,   0,   7, 178, 252, 240,  71,  19,\n",
              "         28,   0,   0,   0,   0,   0,   0, 253, 252, 195,   0,   0,   0,\n",
              "          0,   0],\n",
              "       [  0,   0,   0,   0,   0,   0,   0,  57, 252, 252,  63,   0,   0,\n",
              "          0,   0,   0,   0,   0,   0,   0, 253, 252, 195,   0,   0,   0,\n",
              "          0,   0],\n",
              "       [  0,   0,   0,   0,   0,   0,   0, 198, 253, 190,   0,   0,   0,\n",
              "          0,   0,   0,   0,   0,   0,   0, 255, 253, 196,   0,   0,   0,\n",
              "          0,   0],\n",
              "       [  0,   0,   0,   0,   0,   0,  76, 246, 252, 112,   0,   0,   0,\n",
              "          0,   0,   0,   0,   0,   0,   0, 253, 252, 148,   0,   0,   0,\n",
              "          0,   0],\n",
              "       [  0,   0,   0,   0,   0,   0,  85, 252, 230,  25,   0,   0,   0,\n",
              "          0,   0,   0,   0,   0,   7, 135, 253, 186,  12,   0,   0,   0,\n",
              "          0,   0],\n",
              "       [  0,   0,   0,   0,   0,   0,  85, 252, 223,   0,   0,   0,   0,\n",
              "          0,   0,   0,   0,   7, 131, 252, 225,  71,   0,   0,   0,   0,\n",
              "          0,   0],\n",
              "       [  0,   0,   0,   0,   0,   0,  85, 252, 145,   0,   0,   0,   0,\n",
              "          0,   0,   0,  48, 165, 252, 173,   0,   0,   0,   0,   0,   0,\n",
              "          0,   0],\n",
              "       [  0,   0,   0,   0,   0,   0,  86, 253, 225,   0,   0,   0,   0,\n",
              "          0,   0, 114, 238, 253, 162,   0,   0,   0,   0,   0,   0,   0,\n",
              "          0,   0],\n",
              "       [  0,   0,   0,   0,   0,   0,  85, 252, 249, 146,  48,  29,  85,\n",
              "        178, 225, 253, 223, 167,  56,   0,   0,   0,   0,   0,   0,   0,\n",
              "          0,   0],\n",
              "       [  0,   0,   0,   0,   0,   0,  85, 252, 252, 252, 229, 215, 252,\n",
              "        252, 252, 196, 130,   0,   0,   0,   0,   0,   0,   0,   0,   0,\n",
              "          0,   0],\n",
              "       [  0,   0,   0,   0,   0,   0,  28, 199, 252, 252, 253, 252, 252,\n",
              "        233, 145,   0,   0,   0,   0,   0,   0,   0,   0,   0,   0,   0,\n",
              "          0,   0],\n",
              "       [  0,   0,   0,   0,   0,   0,   0,  25, 128, 252, 253, 252, 141,\n",
              "         37,   0,   0,   0,   0,   0,   0,   0,   0,   0,   0,   0,   0,\n",
              "          0,   0],\n",
              "       [  0,   0,   0,   0,   0,   0,   0,   0,   0,   0,   0,   0,   0,\n",
              "          0,   0,   0,   0,   0,   0,   0,   0,   0,   0,   0,   0,   0,\n",
              "          0,   0],\n",
              "       [  0,   0,   0,   0,   0,   0,   0,   0,   0,   0,   0,   0,   0,\n",
              "          0,   0,   0,   0,   0,   0,   0,   0,   0,   0,   0,   0,   0,\n",
              "          0,   0],\n",
              "       [  0,   0,   0,   0,   0,   0,   0,   0,   0,   0,   0,   0,   0,\n",
              "          0,   0,   0,   0,   0,   0,   0,   0,   0,   0,   0,   0,   0,\n",
              "          0,   0],\n",
              "       [  0,   0,   0,   0,   0,   0,   0,   0,   0,   0,   0,   0,   0,\n",
              "          0,   0,   0,   0,   0,   0,   0,   0,   0,   0,   0,   0,   0,\n",
              "          0,   0]], dtype=uint8)"
            ]
          },
          "metadata": {},
          "execution_count": 37
        }
      ]
    },
    {
      "cell_type": "code",
      "source": [
        "# Check shape \n",
        "X_train[1].shape"
      ],
      "metadata": {
        "id": "CMrrmdBQnZMz",
        "outputId": "a8349851-bb00-4d96-8062-b326838a87d1",
        "colab": {
          "base_uri": "https://localhost:8080/"
        }
      },
      "execution_count": 38,
      "outputs": [
        {
          "output_type": "execute_result",
          "data": {
            "text/plain": [
              "(28, 28)"
            ]
          },
          "metadata": {},
          "execution_count": 38
        }
      ]
    },
    {
      "cell_type": "code",
      "source": [
        "# Visualize\n",
        "import matplotlib.pyplot as plt \n",
        "plt.imshow(X_train[1], cmap='gray')"
      ],
      "metadata": {
        "id": "43h9gsINnfat",
        "outputId": "ea305727-fd68-442e-c805-e992fdc03951",
        "colab": {
          "base_uri": "https://localhost:8080/",
          "height": 282
        }
      },
      "execution_count": 39,
      "outputs": [
        {
          "output_type": "execute_result",
          "data": {
            "text/plain": [
              "<matplotlib.image.AxesImage at 0x7fc9bc2f8850>"
            ]
          },
          "metadata": {},
          "execution_count": 39
        },
        {
          "output_type": "display_data",
          "data": {
            "text/plain": [
              "<Figure size 432x288 with 1 Axes>"
            ],
            "image/png": "[encoded data removed]"
          },
          "metadata": {
            "needs_background": "light"
          }
        }
      ]
    },
    {
      "cell_type": "code",
      "source": [
        "print(y_train[1])  # Actual label for above image"
      ],
      "metadata": {
        "id": "cMPEefvpnjJU",
        "outputId": "da358e72-a505-4135-97e2-e40f7b15e3e0",
        "colab": {
          "base_uri": "https://localhost:8080/"
        }
      },
      "execution_count": 40,
      "outputs": [
        {
          "output_type": "stream",
          "name": "stdout",
          "text": [
            "0\n"
          ]
        }
      ]
    },
    {
      "cell_type": "code",
      "source": [
        "# Convert 2D image to 1D \n",
        "X_train.shape\n",
        "# 60000 records of 2D 28 X 28 shape"
      ],
      "metadata": {
        "id": "Y6lv3sXunpTk",
        "outputId": "59b2db13-04dd-4855-bef5-8b0f5a394044",
        "colab": {
          "base_uri": "https://localhost:8080/"
        }
      },
      "execution_count": 41,
      "outputs": [
        {
          "output_type": "execute_result",
          "data": {
            "text/plain": [
              "(60000, 28, 28)"
            ]
          },
          "metadata": {},
          "execution_count": 41
        }
      ]
    },
    {
      "cell_type": "code",
      "source": [
        "# Reshaping training data\n",
        "X_train_1d = X_train.reshape(60000, 28*28) \n",
        "X_train_1d.shape"
      ],
      "metadata": {
        "id": "taaFtSiTns6d",
        "outputId": "5cac1cd4-1bb3-48d3-a77f-34d5f1fb2754",
        "colab": {
          "base_uri": "https://localhost:8080/"
        }
      },
      "execution_count": 43,
      "outputs": [
        {
          "output_type": "execute_result",
          "data": {
            "text/plain": [
              "(60000, 784)"
            ]
          },
          "metadata": {},
          "execution_count": 43
        }
      ]
    },
    {
      "cell_type": "code",
      "source": [
        "# reshaping test data\n",
        "X_test_1d = X_test.reshape(-1, 28*28) \n",
        "X_test_1d.shape"
      ],
      "metadata": {
        "id": "VNC9MGFunw4w",
        "outputId": "6191fd73-6f1a-42ed-c361-c925534d5154",
        "colab": {
          "base_uri": "https://localhost:8080/"
        }
      },
      "execution_count": 44,
      "outputs": [
        {
          "output_type": "execute_result",
          "data": {
            "text/plain": [
              "(10000, 784)"
            ]
          },
          "metadata": {},
          "execution_count": 44
        }
      ]
    },
    {
      "cell_type": "code",
      "source": [
        "# convert target y to dummy variable \n",
        "from keras.utils.np_utils import to_categorical\n",
        "y_train_cat = to_categorical(y_train)"
      ],
      "metadata": {
        "id": "ugRdj4ZQn2IC"
      },
      "execution_count": 45,
      "outputs": []
    },
    {
      "cell_type": "code",
      "source": [
        "# 10 different classes 0 - 9. \n",
        "y_train_cat"
      ],
      "metadata": {
        "id": "UKFSFLCkn6Km",
        "outputId": "07fe88ff-6824-4fee-f1b6-6cc3474117c2",
        "colab": {
          "base_uri": "https://localhost:8080/"
        }
      },
      "execution_count": 46,
      "outputs": [
        {
          "output_type": "execute_result",
          "data": {
            "text/plain": [
              "array([[0., 0., 0., ..., 0., 0., 0.],\n",
              "       [1., 0., 0., ..., 0., 0., 0.],\n",
              "       [0., 0., 0., ..., 0., 0., 0.],\n",
              "       ...,\n",
              "       [0., 0., 0., ..., 0., 0., 0.],\n",
              "       [0., 0., 0., ..., 0., 0., 0.],\n",
              "       [0., 0., 0., ..., 0., 1., 0.]], dtype=float32)"
            ]
          },
          "metadata": {},
          "execution_count": 46
        }
      ]
    },
    {
      "cell_type": "code",
      "source": [
        "# Creating model \n",
        "from keras.models import Sequential\n",
        "model = Sequential()\n",
        "from keras.layers import Dense"
      ],
      "metadata": {
        "id": "vaD5q3EUn-CR"
      },
      "execution_count": 47,
      "outputs": []
    },
    {
      "cell_type": "code",
      "source": [
        "model.add(\n",
        "    Dense(\n",
        "        units = 512, #\n",
        "        input_dim=28*28,\n",
        "        activation=\"relu\"\n",
        "    )\n",
        ")\n",
        "model.add(\n",
        "    Dense(\n",
        "        units=256, \n",
        "        activation=\"relu\"\n",
        "    )\n",
        ")\n",
        "model.add(\n",
        "    Dense(\n",
        "        units=128, \n",
        "        activation=\"relu\"\n",
        "    )\n",
        ")\n",
        "model.add(\n",
        "    Dense(\n",
        "        units=64, \n",
        "        activation=\"relu\"\n",
        "    )\n",
        ")\n",
        "model.add(\n",
        "    Dense(\n",
        "        units=32, \n",
        "        activation=\"relu\"\n",
        "    )\n",
        ")\n",
        "model.add(\n",
        "    Dense(\n",
        "        units=16, \n",
        "        activation=\"relu\"\n",
        "    )\n",
        ")\n",
        "model.add(\n",
        "    Dense(\n",
        "        units=10, \n",
        "        activation=\"softmax\"\n",
        "    )\n",
        ")"
      ],
      "metadata": {
        "id": "qb4XIKqVoBfK"
      },
      "execution_count": 48,
      "outputs": []
    },
    {
      "cell_type": "code",
      "source": [
        "model.summary()"
      ],
      "metadata": {
        "id": "2tWk2dypoGv_",
        "outputId": "60fe6b7e-0289-4593-8987-699258c4aff2",
        "colab": {
          "base_uri": "https://localhost:8080/"
        }
      },
      "execution_count": 21,
      "outputs": [
        {
          "output_type": "stream",
          "name": "stdout",
          "text": [
            "Model: \"sequential\"\n",
            "_________________________________________________________________\n",
            " Layer (type)                Output Shape              Param #   \n",
            "=================================================================\n",
            " dense (Dense)               (None, 512)               401920    \n",
            "                                                                 \n",
            " dense_1 (Dense)             (None, 256)               131328    \n",
            "                                                                 \n",
            " dense_2 (Dense)             (None, 128)               32896     \n",
            "                                                                 \n",
            " dense_3 (Dense)             (None, 64)                8256      \n",
            "                                                                 \n",
            " dense_4 (Dense)             (None, 32)                2080      \n",
            "                                                                 \n",
            " dense_5 (Dense)             (None, 16)                528       \n",
            "                                                                 \n",
            " dense_6 (Dense)             (None, 10)                170       \n",
            "                                                                 \n",
            "=================================================================\n",
            "Total params: 577,178\n",
            "Trainable params: 577,178\n",
            "Non-trainable params: 0\n",
            "_________________________________________________________________\n"
          ]
        }
      ]
    },
    {
      "cell_type": "code",
      "source": [
        "# Compile Model \n",
        "from tensorflow.keras.optimizers import Adam\n",
        "model.compile(\n",
        "    optimizer=Adam(learning_rate=0.0005),\n",
        "    loss=\"categorical_crossentropy\",\n",
        "    metrics=[\"accuracy\"]\n",
        ")\n",
        "model.fit(X_train_1d, y_train_cat, epochs=50)"
      ],
      "metadata": {
        "id": "FA4f3SaOoP73",
        "outputId": "323d0a04-6dae-4e2e-f714-c41666a51263",
        "colab": {
          "base_uri": "https://localhost:8080/"
        }
      },
      "execution_count": 49,
      "outputs": [
        {
          "output_type": "stream",
          "name": "stdout",
          "text": [
            "Epoch 1/50\n",
            "1875/1875 [==============================] - 16s 8ms/step - loss: 0.5430 - accuracy: 0.8610\n",
            "Epoch 2/50\n",
            "1875/1875 [==============================] - 15s 8ms/step - loss: 0.1827 - accuracy: 0.9514\n",
            "Epoch 3/50\n",
            "1875/1875 [==============================] - 15s 8ms/step - loss: 0.1327 - accuracy: 0.9636\n",
            "Epoch 4/50\n",
            "1875/1875 [==============================] - 15s 8ms/step - loss: 0.0983 - accuracy: 0.9723\n",
            "Epoch 5/50\n",
            "1875/1875 [==============================] - 15s 8ms/step - loss: 0.0866 - accuracy: 0.9762\n",
            "Epoch 6/50\n",
            "1875/1875 [==============================] - 14s 8ms/step - loss: 0.0701 - accuracy: 0.9808\n",
            "Epoch 7/50\n",
            "1875/1875 [==============================] - 15s 8ms/step - loss: 0.0605 - accuracy: 0.9834\n",
            "Epoch 8/50\n",
            "1875/1875 [==============================] - 14s 8ms/step - loss: 0.0527 - accuracy: 0.9857\n",
            "Epoch 9/50\n",
            "1875/1875 [==============================] - 15s 8ms/step - loss: 0.0480 - accuracy: 0.9864\n",
            "Epoch 10/50\n",
            "1875/1875 [==============================] - 15s 8ms/step - loss: 0.0408 - accuracy: 0.9886\n",
            "Epoch 11/50\n",
            "1875/1875 [==============================] - 15s 8ms/step - loss: 0.0355 - accuracy: 0.9900\n",
            "Epoch 12/50\n",
            "1875/1875 [==============================] - 15s 8ms/step - loss: 0.0355 - accuracy: 0.9906\n",
            "Epoch 13/50\n",
            "1875/1875 [==============================] - 14s 8ms/step - loss: 0.0290 - accuracy: 0.9923\n",
            "Epoch 14/50\n",
            "1875/1875 [==============================] - 15s 8ms/step - loss: 0.0272 - accuracy: 0.9930\n",
            "Epoch 15/50\n",
            "1875/1875 [==============================] - 15s 8ms/step - loss: 0.0270 - accuracy: 0.9927\n",
            "Epoch 16/50\n",
            "1875/1875 [==============================] - 15s 8ms/step - loss: 0.0236 - accuracy: 0.9941\n",
            "Epoch 17/50\n",
            "1875/1875 [==============================] - 15s 8ms/step - loss: 0.0257 - accuracy: 0.9929\n",
            "Epoch 18/50\n",
            "1875/1875 [==============================] - 15s 8ms/step - loss: 0.0230 - accuracy: 0.9944\n",
            "Epoch 19/50\n",
            "1875/1875 [==============================] - 14s 8ms/step - loss: 0.0208 - accuracy: 0.9947\n",
            "Epoch 20/50\n",
            "1875/1875 [==============================] - 15s 8ms/step - loss: 0.0214 - accuracy: 0.9950\n",
            "Epoch 21/50\n",
            "1875/1875 [==============================] - 14s 8ms/step - loss: 0.0166 - accuracy: 0.9959\n",
            "Epoch 22/50\n",
            "1875/1875 [==============================] - 14s 7ms/step - loss: 0.0171 - accuracy: 0.9954\n",
            "Epoch 23/50\n",
            "1875/1875 [==============================] - 15s 8ms/step - loss: 0.0184 - accuracy: 0.9956\n",
            "Epoch 24/50\n",
            "1875/1875 [==============================] - 14s 7ms/step - loss: 0.0178 - accuracy: 0.9961\n",
            "Epoch 25/50\n",
            "1875/1875 [==============================] - 13s 7ms/step - loss: 0.0146 - accuracy: 0.9966\n",
            "Epoch 26/50\n",
            "1875/1875 [==============================] - 14s 7ms/step - loss: 0.0121 - accuracy: 0.9970\n",
            "Epoch 27/50\n",
            "1875/1875 [==============================] - 14s 7ms/step - loss: 0.0137 - accuracy: 0.9965\n",
            "Epoch 28/50\n",
            "1875/1875 [==============================] - 14s 7ms/step - loss: 0.0163 - accuracy: 0.9967\n",
            "Epoch 29/50\n",
            "1875/1875 [==============================] - 14s 7ms/step - loss: 0.0217 - accuracy: 0.9953\n",
            "Epoch 30/50\n",
            "1875/1875 [==============================] - 14s 7ms/step - loss: 0.0109 - accuracy: 0.9976\n",
            "Epoch 31/50\n",
            "1875/1875 [==============================] - 14s 7ms/step - loss: 0.0137 - accuracy: 0.9967\n",
            "Epoch 32/50\n",
            "1875/1875 [==============================] - 14s 7ms/step - loss: 0.0140 - accuracy: 0.9968\n",
            "Epoch 33/50\n",
            "1875/1875 [==============================] - 14s 7ms/step - loss: 0.0173 - accuracy: 0.9962\n",
            "Epoch 34/50\n",
            "1875/1875 [==============================] - 14s 7ms/step - loss: 0.0126 - accuracy: 0.9970\n",
            "Epoch 35/50\n",
            "1875/1875 [==============================] - 14s 7ms/step - loss: 0.0190 - accuracy: 0.9970\n",
            "Epoch 36/50\n",
            "1875/1875 [==============================] - 13s 7ms/step - loss: 0.0110 - accuracy: 0.9979\n",
            "Epoch 37/50\n",
            "1875/1875 [==============================] - 14s 7ms/step - loss: 0.0085 - accuracy: 0.9982\n",
            "Epoch 38/50\n",
            "1875/1875 [==============================] - 13s 7ms/step - loss: 0.0116 - accuracy: 0.9973\n",
            "Epoch 39/50\n",
            "1875/1875 [==============================] - 14s 7ms/step - loss: 0.0215 - accuracy: 0.9968\n",
            "Epoch 40/50\n",
            "1875/1875 [==============================] - 13s 7ms/step - loss: 0.0125 - accuracy: 0.9973\n",
            "Epoch 41/50\n",
            "1875/1875 [==============================] - 14s 7ms/step - loss: 0.0091 - accuracy: 0.9982\n",
            "Epoch 42/50\n",
            "1875/1875 [==============================] - 13s 7ms/step - loss: 0.0181 - accuracy: 0.9975\n",
            "Epoch 43/50\n",
            "1875/1875 [==============================] - 13s 7ms/step - loss: 0.0106 - accuracy: 0.9979\n",
            "Epoch 44/50\n",
            "1875/1875 [==============================] - 14s 7ms/step - loss: 0.0169 - accuracy: 0.9972\n",
            "Epoch 45/50\n",
            "1875/1875 [==============================] - 14s 7ms/step - loss: 0.0133 - accuracy: 0.9977\n",
            "Epoch 46/50\n",
            "1875/1875 [==============================] - 14s 7ms/step - loss: 0.0093 - accuracy: 0.9984\n",
            "Epoch 47/50\n",
            "1875/1875 [==============================] - 14s 8ms/step - loss: 0.0105 - accuracy: 0.9982\n",
            "Epoch 48/50\n",
            "1875/1875 [==============================] - 15s 8ms/step - loss: 0.0083 - accuracy: 0.9984\n",
            "Epoch 49/50\n",
            "1875/1875 [==============================] - 14s 8ms/step - loss: 0.0116 - accuracy: 0.9978\n",
            "Epoch 50/50\n",
            "1875/1875 [==============================] - 14s 8ms/step - loss: 0.0099 - accuracy: 0.9979\n"
          ]
        },
        {
          "output_type": "execute_result",
          "data": {
            "text/plain": [
              "<keras.callbacks.History at 0x7fc9bc297e50>"
            ]
          },
          "metadata": {},
          "execution_count": 49
        }
      ]
    },
    {
      "cell_type": "code",
      "source": [
        "loss = model.history.history[\"loss\"]\n",
        "import matplotlib.pyplot as plt \n",
        "plt.plot(loss)"
      ],
      "metadata": {
        "id": "am8B5MLBoSdZ",
        "outputId": "c847aff8-ead1-4653-e1b2-fe20c69efed5",
        "colab": {
          "base_uri": "https://localhost:8080/",
          "height": 282
        }
      },
      "execution_count": 50,
      "outputs": [
        {
          "output_type": "execute_result",
          "data": {
            "text/plain": [
              "[<matplotlib.lines.Line2D at 0x7fc9bda61d10>]"
            ]
          },
          "metadata": {},
          "execution_count": 50
        },
        {
          "output_type": "display_data",
          "data": {
            "text/plain": [
              "<Figure size 432x288 with 1 Axes>"
            ],
            "image/png": "[encoded data removed]"
          },
          "metadata": {
            "needs_background": "light"
          }
        }
      ]
    },
    {
      "cell_type": "code",
      "source": [
        "acc = model.history.history[\"accuracy\"]\n",
        "plt.plot(acc)"
      ],
      "metadata": {
        "id": "A7sooEjLoWZo",
        "outputId": "2f44f013-9f7f-493a-c2ab-de2d0b30612c",
        "colab": {
          "base_uri": "https://localhost:8080/",
          "height": 282
        }
      },
      "execution_count": 51,
      "outputs": [
        {
          "output_type": "execute_result",
          "data": {
            "text/plain": [
              "[<matplotlib.lines.Line2D at 0x7fc9bc190250>]"
            ]
          },
          "metadata": {},
          "execution_count": 51
        },
        {
          "output_type": "display_data",
          "data": {
            "text/plain": [
              "<Figure size 432x288 with 1 Axes>"
            ],
            "image/png": "[encoded data removed]"
          },
          "metadata": {
            "needs_background": "light"
          }
        }
      ]
    },
    {
      "cell_type": "code",
      "source": [
        "model.save(\"mnist-acc-0.9991.h5\")"
      ],
      "metadata": {
        "id": "ddcaIDMboZxw"
      },
      "execution_count": 52,
      "outputs": []
    },
    {
      "cell_type": "code",
      "source": [
        "# Testing\n",
        "imgTest = X_test[15]\n",
        "plt.imshow(imgTest)"
      ],
      "metadata": {
        "id": "2LeeulCiodcy",
        "outputId": "37957c02-6adc-458b-e4fe-4763f9d74c8b",
        "colab": {
          "base_uri": "https://localhost:8080/",
          "height": 282
        }
      },
      "execution_count": 54,
      "outputs": [
        {
          "output_type": "execute_result",
          "data": {
            "text/plain": [
              "<matplotlib.image.AxesImage at 0x7fc9bda0bd90>"
            ]
          },
          "metadata": {},
          "execution_count": 54
        },
        {
          "output_type": "display_data",
          "data": {
            "text/plain": [
              "<Figure size 432x288 with 1 Axes>"
            ],
            "image/png": "[encoded data removed]"
          },
          "metadata": {
            "needs_background": "light"
          }
        }
      ]
    },
    {
      "cell_type": "code",
      "source": [
        "sample = imgTest.reshape(1, 28*28)\n",
        "pred = model.predict(sample)"
      ],
      "metadata": {
        "id": "dK3FhtProhao"
      },
      "execution_count": 55,
      "outputs": []
    },
    {
      "cell_type": "code",
      "source": [
        "pred\n"
      ],
      "metadata": {
        "id": "E4y1QPhNoko9",
        "outputId": "fb12fd86-1fc5-4c9d-f535-352960edf28d",
        "colab": {
          "base_uri": "https://localhost:8080/"
        }
      },
      "execution_count": 56,
      "outputs": [
        {
          "output_type": "execute_result",
          "data": {
            "text/plain": [
              "array([[1.0705245e-13, 0.0000000e+00, 1.7477384e-38, 8.3706723e-35,\n",
              "        1.2049021e-36, 1.0000000e+00, 5.5605914e-14, 0.0000000e+00,\n",
              "        2.3295601e-09, 6.8593112e-20]], dtype=float32)"
            ]
          },
          "metadata": {},
          "execution_count": 56
        }
      ]
    },
    {
      "cell_type": "code",
      "source": [
        "import numpy as np \n",
        "max_val = np.amax(pred)"
      ],
      "metadata": {
        "id": "f0tuNfYeonhT"
      },
      "execution_count": 57,
      "outputs": []
    },
    {
      "cell_type": "code",
      "source": [
        "result = np.where(pred == np.amax(pred))\n",
        "max(result)"
      ],
      "metadata": {
        "id": "-iNtEDcJoqK7",
        "outputId": "6e2e861c-67ef-4743-d830-5be433ef213c",
        "colab": {
          "base_uri": "https://localhost:8080/"
        }
      },
      "execution_count": 58,
      "outputs": [
        {
          "output_type": "execute_result",
          "data": {
            "text/plain": [
              "array([5])"
            ]
          },
          "metadata": {},
          "execution_count": 58
        }
      ]
    },
    {
      "cell_type": "code",
      "source": [
        "model_predictions = model.predict(X_test_1d)\n",
        "result = np.where(model_predictions == np.amax(model_predictions))\n",
        "index = result[1]"
      ],
      "metadata": {
        "id": "D9RlbGDtosp6"
      },
      "execution_count": 59,
      "outputs": []
    },
    {
      "cell_type": "code",
      "source": [
        "index # Predictions"
      ],
      "metadata": {
        "id": "cfcbYkz4owS_",
        "outputId": "49012472-de16-4971-eda4-f4fdfe69cbe8",
        "colab": {
          "base_uri": "https://localhost:8080/"
        }
      },
      "execution_count": 60,
      "outputs": [
        {
          "output_type": "execute_result",
          "data": {
            "text/plain": [
              "array([7, 2, 0, ..., 3, 5, 6])"
            ]
          },
          "metadata": {},
          "execution_count": 60
        }
      ]
    },
    {
      "cell_type": "code",
      "source": [
        "y_test # Actual answers"
      ],
      "metadata": {
        "id": "OdHWrKL6ozJr",
        "outputId": "fe1035f1-d7a3-4a20-ae5e-cacc07cd6e42",
        "colab": {
          "base_uri": "https://localhost:8080/"
        }
      },
      "execution_count": 61,
      "outputs": [
        {
          "output_type": "execute_result",
          "data": {
            "text/plain": [
              "array([7, 2, 1, ..., 4, 5, 6], dtype=uint8)"
            ]
          },
          "metadata": {},
          "execution_count": 61
        }
      ]
    },
    {
      "cell_type": "code",
      "source": [
        "from sklearn.metrics import confusion_matrix"
      ],
      "metadata": {
        "id": "bRGX2tiro1ox"
      },
      "execution_count": 62,
      "outputs": []
    },
    {
      "cell_type": "code",
      "source": [
        "matrix=confusion_matrix(y_test[:2], index[:2])"
      ],
      "metadata": {
        "id": "5SlYZQvmo4NZ"
      },
      "execution_count": 63,
      "outputs": []
    },
    {
      "cell_type": "code",
      "source": [
        "matrix"
      ],
      "metadata": {
        "id": "kty7aZdlo7uP",
        "outputId": "448f394f-ebce-4dc7-b7f6-2f242f29c8dd",
        "colab": {
          "base_uri": "https://localhost:8080/"
        }
      },
      "execution_count": 64,
      "outputs": [
        {
          "output_type": "execute_result",
          "data": {
            "text/plain": [
              "array([[1, 0],\n",
              "       [0, 1]])"
            ]
          },
          "metadata": {},
          "execution_count": 64
        }
      ]
    }
  ]
}